!pip install diffusers transformers accelerate

from diffusers import StableDiffusionPipeline
import torch

pipe = StableDiffusionPipeline.from_pretrained(
    "Lykon/dreamshaper-8",
    torch_dtype=torch.float16
).to("cuda")

prompt = "A boy sitting under a tree, anime style, cinematic lighting"
image = pipe(prompt).images[0]
image.save("output.png")
